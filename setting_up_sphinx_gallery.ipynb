{
 "cells": [
  {
   "cell_type": "markdown",
   "metadata": {},
   "source": [
    "# Setting up sphinx-gallery\n",
    "\n",
    "Sphinx-gallery allows you to generate beautiful visualizations of data in a single gallery of images. Here are a few examples of what you can do with sphinx-gallery:\n",
    "\n",
    "* [MNE-pytho](http://martinos.org/mne/stable/auto_examples/index.html) ([source](https://github.com/mne-tools/mne-python/tree/master/doc))\n",
    "* [scikit-learn](http://scikit-learn.org/stable/auto_examples/index.html) ([source](https://github.com/scikit-learn/scikit-learn/tree/master/doc))\n",
    "\n",
    "This will step you through getting your documentation set up with sphinx-gallery."
   ]
  },
  {
   "cell_type": "code",
   "execution_count": 1,
   "metadata": {
    "collapsed": false
   },
   "outputs": [
    {
     "name": "stdout",
     "output_type": "stream",
     "text": [
      "Collecting sphinx-gallery\n",
      "  Downloading sphinx-gallery-0.1.8.tar.gz (59kB)\n",
      "Building wheels for collected packages: sphinx-gallery\n",
      "  Running setup.py bdist_wheel for sphinx-gallery: started\n",
      "  Running setup.py bdist_wheel for sphinx-gallery: finished with status 'done'\n",
      "  Stored in directory: /Users/choldgraf/Library/Caches/pip/wheels/96/cb/d6/626ffbef493e3c232d5416ef70327875f7a262b25868988059\n",
      "Successfully built sphinx-gallery\n",
      "Installing collected packages: sphinx-gallery\n",
      "  Found existing installation: sphinx-gallery 0.1.7\n",
      "    Uninstalling sphinx-gallery-0.1.7:\n",
      "      Successfully uninstalled sphinx-gallery-0.1.7\n",
      "Successfully installed sphinx-gallery-0.1.8\n"
     ]
    }
   ],
   "source": [
    "%%bash\n",
    "pip install sphinx-gallery --upgrade"
   ]
  },
  {
   "cell_type": "markdown",
   "metadata": {},
   "source": [
    "Next, add the following text to the `extensions` list in your `conf.py` file:\n",
    "\n",
    "```python\n",
    "extensions = [\n",
    "    ...\n",
    "    'sphinx_gallery.gen_gallery',\n",
    "    ]\n",
    "```"
   ]
  },
  {
   "cell_type": "markdown",
   "metadata": {},
   "source": [
    "Next, we'll add a configuration file to tell sphinx-gallery where to put the generated files:\n",
    "\n",
    "```python\n",
    "sphinx_gallery_conf = {\n",
    "    # path to your examples scripts\n",
    "    'examples_dirs' : '../../examples',\n",
    "    # path where to save gallery generated examples\n",
    "    'gallery_dirs'  : 'auto_examples'}\n",
    "```\n",
    "\n",
    "`gallery_dirs` is the folder where Sphinx-Gallery will store the converted Python scripts into rst files that Sphinx will process into HTML."
   ]
  },
  {
   "cell_type": "markdown",
   "metadata": {},
   "source": [
    "We also need to create a `README.txt` file:\n",
    "\n",
    "We'll add this text to it:\n",
    "\n",
    "```\n",
    ".. _tutorials-index:\n",
    "\n",
    "Our example gallery\n",
    "===================\n",
    "\n",
    "This is our gallery!\n",
    "```\n"
   ]
  },
  {
   "cell_type": "code",
   "execution_count": 6,
   "metadata": {
    "collapsed": false
   },
   "outputs": [
    {
     "name": "stdout",
     "output_type": "stream",
     "text": [
      "sphinx-build -b html -d build/doctrees   source build/html\n",
      "Running Sphinx v1.5.3\n",
      "loading pickled environment... done\n",
      "Generating gallery\n",
      "Computation time summary:\n",
      "\t- plot_scatter.py : 0 sec\n",
      "building [mo]: targets for 0 po files that are out of date\n",
      "building [html]: targets for 1 source files that are out of date\n",
      "updating environment: 0 added, 2 changed, 0 removed\n",
      "reading sources... [ 50%] auto_examples/index\n",
      "reading sources... [100%] auto_examples/plot_scatter\n",
      "\n",
      "looking for now-outdated files... none found\n",
      "pickling environment... done\n",
      "checking consistency... done\n",
      "preparing documents... done\n",
      "writing output... [ 33%] auto_examples/index\n",
      "writing output... [ 66%] auto_examples/plot_scatter\n",
      "writing output... [100%] index\n",
      "\n",
      "generating indices... genindex\n",
      "writing additional pages... search\n",
      "copying images... [ 50%] auto_examples/images/thumb/sphx_glr_plot_scatter_thumb.png\n",
      "copying images... [100%] auto_examples/images/sphx_glr_plot_scatter_001.png\n",
      "\n",
      "copying downloadable files... [ 25%] auto_examples/auto_examples_jupyter.zip\n",
      "copying downloadable files... [ 50%] auto_examples/plot_scatter.ipynb\n",
      "copying downloadable files... [ 75%] auto_examples/auto_examples_python.zip\n",
      "copying downloadable files... [100%] auto_examples/plot_scatter.py\n",
      "\n",
      "copying static files... done\n",
      "copying extra files... done\n",
      "dumping search index in English (code: en) ... done\n",
      "dumping object inventory... done\n",
      "build succeeded, 1 warning.\n",
      "Embedding documentation hyperlinks in examples..\n",
      "auto_examples[ 50%] index.html\n",
      "auto_examples[100%] plot_scatter.html\n",
      "\n",
      "\n",
      "Build finished. The HTML pages are in build/html.\n"
     ]
    },
    {
     "name": "stderr",
     "output_type": "stream",
     "text": [
      "WARNING: html_static_path entry '/Users/choldgraf/Dropbox/github/publicRepos/zero_to_docs/sphinx_template/docs/source/_static' does not exist\n"
     ]
    }
   ],
   "source": [
    "%%bash\n",
    "make html -C ../sphinx_template/docs/"
   ]
  },
  {
   "cell_type": "code",
   "execution_count": 7,
   "metadata": {
    "collapsed": false
   },
   "outputs": [],
   "source": [
    "%%bash\n",
    "open ../sphinx_template/docs/build/html/auto_examples/index.html"
   ]
  },
  {
   "cell_type": "markdown",
   "metadata": {},
   "source": [
    "# Adding back to the table of contents\n",
    "\n",
    "We should also add a link to our gallery to our table of contents, that way it shows up on our main page. We'll add the following text:\n",
    "\n",
    "```\n",
    "auto_examples/index\n",
    "```"
   ]
  },
  {
   "cell_type": "code",
   "execution_count": 9,
   "metadata": {
    "collapsed": false
   },
   "outputs": [
    {
     "name": "stdout",
     "output_type": "stream",
     "text": [
      "sphinx-build -b html -d build/doctrees   source build/html\n",
      "Running Sphinx v1.5.3\n",
      "loading pickled environment... done\n",
      "Generating gallery\n",
      "Computation time summary:\n",
      "\t- plot_scatter.py : 0 sec\n",
      "building [mo]: targets for 0 po files that are out of date\n",
      "building [html]: targets for 2 source files that are out of date\n",
      "updating environment: 0 added, 3 changed, 0 removed\n",
      "reading sources... [ 33%] auto_examples/index\n",
      "reading sources... [ 66%] auto_examples/plot_scatter\n",
      "reading sources... [100%] index\n",
      "\n",
      "looking for now-outdated files... none found\n",
      "pickling environment... done\n",
      "checking consistency... done\n",
      "preparing documents... done\n",
      "writing output... [ 33%] auto_examples/index\n",
      "writing output... [ 66%] auto_examples/plot_scatter\n",
      "writing output... [100%] index\n",
      "\n",
      "generating indices... genindex\n",
      "writing additional pages... search\n",
      "copying images... [ 50%] auto_examples/images/sphx_glr_plot_scatter_001.png\n",
      "copying images... [100%] auto_examples/images/thumb/sphx_glr_plot_scatter_thumb.png\n",
      "\n",
      "copying downloadable files... [ 25%] auto_examples/auto_examples_python.zip\n",
      "copying downloadable files... [ 50%] auto_examples/plot_scatter.ipynb\n",
      "copying downloadable files... [ 75%] auto_examples/plot_scatter.py\n",
      "copying downloadable files... [100%] auto_examples/auto_examples_jupyter.zip\n",
      "\n",
      "copying static files... done\n",
      "copying extra files... done\n",
      "dumping search index in English (code: en) ... done\n",
      "dumping object inventory... done\n",
      "build succeeded, 1 warning.\n",
      "Embedding documentation hyperlinks in examples..\n",
      "auto_examples[ 50%] index.html\n",
      "auto_examples[100%] plot_scatter.html\n",
      "\n",
      "\n",
      "Build finished. The HTML pages are in build/html.\n"
     ]
    },
    {
     "name": "stderr",
     "output_type": "stream",
     "text": [
      "WARNING: html_static_path entry '/Users/choldgraf/Dropbox/github/publicRepos/zero_to_docs/sphinx_template/docs/source/_static' does not exist\n"
     ]
    }
   ],
   "source": [
    "%%bash\n",
    "make html -C ../sphinx_template/docs/"
   ]
  },
  {
   "cell_type": "code",
   "execution_count": 10,
   "metadata": {
    "collapsed": true
   },
   "outputs": [],
   "source": [
    "%%bash\n",
    "open ../sphinx_template/docs/build/html/index.html"
   ]
  },
  {
   "cell_type": "code",
   "execution_count": null,
   "metadata": {
    "collapsed": true
   },
   "outputs": [],
   "source": []
  }
 ],
 "metadata": {
  "kernelspec": {
   "display_name": "Python 3",
   "language": "python",
   "name": "python3"
  }
 },
 "nbformat": 4,
 "nbformat_minor": 2
}
