{
 "cells": [
  {
   "cell_type": "markdown",
   "metadata": {
    "deletable": true,
    "editable": true
   },
   "source": [
    "# Setting up [sphinx-gallery](https://github.com/sphinx-gallery/sphinx-gallery)\n",
    "\n",
    "Sphinx-gallery allows you to generate beautiful visualizations of data in a single gallery of images. Here are a few examples of what you can do with sphinx-gallery:\n",
    "\n",
    "* [MNE-python](http://martinos.org/mne/stable/auto_examples/index.html) ([source](https://github.com/mne-tools/mne-python/tree/master/doc))\n",
    "* [scikit-learn](http://scikit-learn.org/stable/auto_examples/index.html) ([source](https://github.com/scikit-learn/scikit-learn/tree/master/doc))\n",
    "\n",
    "This is a great way to show off what your project can do, and to attract new users. This will step you through getting your documentation set up with sphinx-gallery.\n",
    "\n",
    "First things first, we need to make sure sphinx-gallery is installed:"
   ]
  },
  {
   "cell_type": "code",
   "execution_count": null,
   "metadata": {
    "collapsed": false,
    "deletable": true,
    "editable": true
   },
   "outputs": [],
   "source": [
    "%%bash\n",
    "pip install sphinx-gallery --upgrade"
   ]
  },
  {
   "cell_type": "markdown",
   "metadata": {
    "deletable": true,
    "editable": true
   },
   "source": [
    "`sphinx-gallery` is an extension of sphinx, so we'll need to enable it in the same way that we enabled `numpydoc`: by adding it to our `extensions` list in `conf.py`:\n",
    "\n",
    "```python\n",
    "extensions = [\n",
    "    ...\n",
    "    'sphinx_gallery.gen_gallery',\n",
    "    ]\n",
    "```"
   ]
  },
  {
   "cell_type": "markdown",
   "metadata": {
    "deletable": true,
    "editable": true
   },
   "source": [
    "# Setting up our examples folder\n",
    "Sphinx gallery needs to be pointed towards a folder with a bunch of python scripts that generate matplotlib images. Usually this is something like an examples folder.\n",
    "\n",
    "We can do this by adding a configuration file to tell sphinx-gallery where to look for scripts, and where to put the generated files:\n",
    "\n",
    "```python\n",
    "sphinx_gallery_conf = {\n",
    "    # path to your examples scripts\n",
    "    'examples_dirs' : '../../examples',\n",
    "    # path where to save gallery generated examples\n",
    "    'gallery_dirs'  : 'auto_examples'}\n",
    "```\n",
    "\n",
    "`gallery_dirs` is the folder where Sphinx-Gallery will store the converted Python scripts into rst files that Sphinx will process into HTML.\n",
    "\n",
    "## The examples folder\n",
    "\n",
    "The examples folder can have as many python scripts as we like, but we need to add a `README.txt` file so that `sphinx-gallery` will render the whole thing as a page. Let's create that below:\n",
    "\n",
    "We'll create a `README.txt` file in `examples`, and add this text to it:\n",
    "\n",
    "```\n",
    "Our example gallery\n",
    "===================\n",
    "\n",
    "This is our gallery! Whoah!\n",
    "```\n",
    "\n",
    "Now that we've got an examples folder with a readme, let's re-generate the site."
   ]
  },
  {
   "cell_type": "code",
   "execution_count": null,
   "metadata": {
    "collapsed": false,
    "deletable": true,
    "editable": true
   },
   "outputs": [],
   "source": [
    "%%bash\n",
    "make html -C ../sphinx_template/docs/"
   ]
  },
  {
   "cell_type": "markdown",
   "metadata": {},
   "source": [
    "This generated a new collection of pages, which we can list here:"
   ]
  },
  {
   "cell_type": "code",
   "execution_count": null,
   "metadata": {
    "collapsed": false
   },
   "outputs": [],
   "source": [
    "%%bash\n",
    "ls -l ../sphinx_template/docs/build/html/auto_examples/"
   ]
  },
  {
   "cell_type": "code",
   "execution_count": null,
   "metadata": {
    "collapsed": false,
    "deletable": true,
    "editable": true
   },
   "outputs": [],
   "source": [
    "%%bash\n",
    "open ../sphinx_template/docs/build/html/auto_examples/index.html"
   ]
  },
  {
   "cell_type": "markdown",
   "metadata": {},
   "source": [
    "Let's look at what one of the generated pages looks like:"
   ]
  },
  {
   "cell_type": "code",
   "execution_count": null,
   "metadata": {
    "collapsed": true
   },
   "outputs": [],
   "source": [
    "%%bash\n",
    "open ../sphinx_template/docs/build/html/auto_examples/plot_trapezoid.html"
   ]
  },
  {
   "cell_type": "markdown",
   "metadata": {
    "deletable": true,
    "editable": true
   },
   "source": [
    "# What just happened?\n",
    "Basically, sphinx just did three things:\n",
    "\n",
    "1. Ran each of the `.py` files in the examples folder\n",
    "1. Converted each of them to jupyter notebooks\n",
    "1. Generated corresponding HTML and dumped it in our auto_examples folder.\n",
    "\n",
    "Note that sphinx-gallery is smart about running scripts. It will only do so after things have changed."
   ]
  },
  {
   "cell_type": "markdown",
   "metadata": {
    "deletable": true,
    "editable": true
   },
   "source": [
    "# Fancying up our scripts\n",
    "\n",
    "`sphinx-gallery` lets us generate scripts using reStructuredText **alongside python**. This means that we can include formatting to make it easier to follow our work. Let's add the next few blocks of code to our trapezoid plot and see how it looks.\n",
    "\n",
    "```\n",
    "###############################################################################\n",
    "# Define our function\n",
    "# -------------------\n",
    "#\n",
    "# Below we'll define a function that we'll integrate\n",
    "# $$ 2.2a^3 + .3a^2 + 2a + .1 $$\n",
    "\n",
    "```\n",
    "\n",
    "```\n",
    "###############################################################################\n",
    "# Now plot the function\n",
    "# ---------------------\n",
    "#\n",
    "# Using this function, we'll plot the function itself for a range of\n",
    "# points.\n",
    "```\n",
    "\n",
    "```\n",
    "###############################################################################\n",
    "# Finally, plot the area\n",
    "# ----------------------\n",
    "#\n",
    "# Finally we'll show how the area under the curve changes as a\n",
    "# function of how many points we use to create the trapezoids.\n",
    "```\n",
    "\n",
    "## Changing the chosen gallery image\n",
    "We can also manually choose the image we want for the gallery. Add this comment to the beginning of the script:\n",
    "\n",
    "```\n",
    "# sphinx_gallery_thumbnail_number = 2\n",
    "```"
   ]
  },
  {
   "cell_type": "code",
   "execution_count": null,
   "metadata": {
    "collapsed": false
   },
   "outputs": [],
   "source": [
    "%%bash\n",
    "make html -C ../sphinx_template/docs/"
   ]
  },
  {
   "cell_type": "code",
   "execution_count": null,
   "metadata": {
    "collapsed": true
   },
   "outputs": [],
   "source": [
    "%%bash\n",
    "open ../sphinx_template/docs/build/html/auto_examples/plot_trapezoid.html"
   ]
  },
  {
   "cell_type": "markdown",
   "metadata": {
    "deletable": true,
    "editable": true
   },
   "source": [
    "# Adding a subfolder of gallery images\n",
    "\n",
    "If we have multiple galleries, we can easily pass them to sphinx-gallery by using sub-folders in our examples folder. Let's split our two examples into their own folders.\n",
    "\n",
    "Note that we need to have a `README.txt` file for **each folder**."
   ]
  },
  {
   "cell_type": "code",
   "execution_count": null,
   "metadata": {
    "collapsed": false,
    "deletable": true,
    "editable": true
   },
   "outputs": [],
   "source": [
    "%%bash\n",
    "make html -C ../sphinx_template/docs/"
   ]
  },
  {
   "cell_type": "markdown",
   "metadata": {},
   "source": [
    "Now let's open the index page again to see how it looks"
   ]
  },
  {
   "cell_type": "code",
   "execution_count": null,
   "metadata": {
    "collapsed": true,
    "deletable": true,
    "editable": true
   },
   "outputs": [],
   "source": [
    "%%bash\n",
    "open ../sphinx_template/docs/build/html/auto_examples/index.html"
   ]
  },
  {
   "cell_type": "markdown",
   "metadata": {
    "deletable": true,
    "editable": true
   },
   "source": [
    "# Adding back to the table of contents\n",
    "\n",
    "We should also add a link to our gallery to our table of contents, that way it shows up on our main page. We'll add the following text:\n",
    "\n",
    "```\n",
    "auto_examples/index\n",
    "```"
   ]
  },
  {
   "cell_type": "code",
   "execution_count": null,
   "metadata": {
    "collapsed": false,
    "deletable": true,
    "editable": true
   },
   "outputs": [],
   "source": [
    "%%bash\n",
    "make html -C ../sphinx_template/docs/"
   ]
  },
  {
   "cell_type": "code",
   "execution_count": null,
   "metadata": {
    "collapsed": true,
    "deletable": true,
    "editable": true
   },
   "outputs": [],
   "source": [
    "%%bash\n",
    "open ../sphinx_template/docs/build/html/index.html"
   ]
  },
  {
   "cell_type": "markdown",
   "metadata": {
    "collapsed": true,
    "deletable": true,
    "editable": true
   },
   "source": [
    "`sphinx-gallery` has many more things you can do with it, and we encourage you to check out their documentation to learn more about this toolbox.\n",
    "\n",
    "If you want some inspiration, you can [find a list of projects](https://github.com/sphinx-gallery/sphinx-gallery#who-uses-sphinx-gallery) using `sphinx-gallery` on their github readme.\n",
    "\n",
    "# Wrapping up\n",
    "We've now got a pretty decent platform for building documentation. Here are the basic steps we've covered:\n",
    "\n",
    "1. We used `sphinx` to automatically generate HTML for our website using structured text files.\n",
    "2. We used `numpydoc` to allow us to include formatting within the docstrings of our functions, and to more naturally incorporate math and parameter structure into the documentation.\n",
    "3. We used `sphinx-gallery` to create a beautiful gallery-style display of visualizations generated by our package.\n",
    "\n",
    "There are many more tools out there for building documentation, but these are a good start. We encourage you to play around with whatever suits your fancy. However, one thing you may notice is that there has been a lot of manual building and re-building going on. Fortunately, there are also tools for automating this process, which will be covered later."
   ]
  },
  {
   "cell_type": "code",
   "execution_count": null,
   "metadata": {
    "collapsed": true,
    "deletable": true,
    "editable": true
   },
   "outputs": [],
   "source": []
  }
 ],
 "metadata": {
  "kernelspec": {
   "display_name": "Python 3",
   "language": "python",
   "name": "python3"
  },
  "language_info": {
   "codemirror_mode": {
    "name": "ipython",
    "version": 3
   },
   "file_extension": ".py",
   "mimetype": "text/x-python",
   "name": "python",
   "nbconvert_exporter": "python",
   "pygments_lexer": "ipython3",
   "version": "3.5.2"
  }
 },
 "nbformat": 4,
 "nbformat_minor": 2
}
