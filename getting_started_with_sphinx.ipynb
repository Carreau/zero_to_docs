{
 "cells": [
  {
   "cell_type": "markdown",
   "metadata": {
    "deletable": true,
    "editable": true
   },
   "source": [
    "# Getting started with sphinx\n",
    "Back in the day, people had to build documentation by hand. That meant hand-coding websites, tutorials, examples, and API explanations. As we all know, developing is a lot more fun than maintaining a website, and luckily some people threw together a collection of tools that automatically generate documentation for you.\n",
    "\n",
    "One such tool is Sphinx, a package that will scan your codebase for structured text, and use this to convert it into beautifully-rendered webpages. Sphinx also has an ecosystem of plugins that will let you extend its functionality. This is a quick introduction to sphinx, and will cover setting up a simple sphinx section of your project.\n",
    "\n",
    "First things first, this material is heavily based off some readily-existing sphinx guides that are out there. We recommend checking these out for more information:\n",
    "\n",
    "* [Sphinx quickstart documentation](http://www.sphinx-doc.org/en/stable/tutorial.html)\n",
    "* [Write the docs sphinx tutorial](http://www.writethedocs.org/guide/tools/sphinx/)"
   ]
  },
  {
   "cell_type": "markdown",
   "metadata": {},
   "source": [
    "**NOTE:** This tutorial will generate a skeleton sphinx install in the `docs` folder. You may want to clear this folder first in order to start fresh using the lines of code below:"
   ]
  },
  {
   "cell_type": "code",
   "execution_count": 127,
   "metadata": {
    "collapsed": true
   },
   "outputs": [],
   "source": [
    "%%bash\n",
    "# rm -rf ../docs/*"
   ]
  },
  {
   "cell_type": "markdown",
   "metadata": {
    "deletable": true,
    "editable": true
   },
   "source": [
    "# Installing and setting up sphinx\n",
    "Sphinx is pip-installable, so let's do that first..."
   ]
  },
  {
   "cell_type": "code",
   "execution_count": 1,
   "metadata": {
    "collapsed": false,
    "deletable": true,
    "editable": true
   },
   "outputs": [
    {
     "name": "stdout",
     "output_type": "stream",
     "text": [
      "Requirement already up-to-date: sphinx in /Users/choldgraf/anaconda/lib/python3.5/site-packages\n",
      "Requirement already up-to-date: six>=1.5 in /Users/choldgraf/anaconda/lib/python3.5/site-packages (from sphinx)\n",
      "Requirement already up-to-date: babel!=2.0,>=1.3 in /Users/choldgraf/anaconda/lib/python3.5/site-packages (from sphinx)\n",
      "Requirement already up-to-date: imagesize in /Users/choldgraf/anaconda/lib/python3.5/site-packages (from sphinx)\n",
      "Requirement already up-to-date: alabaster<0.8,>=0.7 in /Users/choldgraf/anaconda/lib/python3.5/site-packages (from sphinx)\n",
      "Requirement already up-to-date: Jinja2>=2.3 in /Users/choldgraf/anaconda/lib/python3.5/site-packages (from sphinx)\n",
      "Requirement already up-to-date: requests>=2.0.0 in /Users/choldgraf/anaconda/lib/python3.5/site-packages (from sphinx)\n",
      "Requirement already up-to-date: snowballstemmer>=1.1 in /Users/choldgraf/anaconda/lib/python3.5/site-packages (from sphinx)\n",
      "Requirement already up-to-date: Pygments>=2.0 in /Users/choldgraf/anaconda/lib/python3.5/site-packages (from sphinx)\n",
      "Requirement already up-to-date: docutils>=0.11 in /Users/choldgraf/anaconda/lib/python3.5/site-packages (from sphinx)\n",
      "Requirement already up-to-date: pytz>=0a in /Users/choldgraf/anaconda/lib/python3.5/site-packages (from babel!=2.0,>=1.3->sphinx)\n",
      "Requirement already up-to-date: MarkupSafe>=0.23 in /Users/choldgraf/anaconda/lib/python3.5/site-packages (from Jinja2>=2.3->sphinx)\n"
     ]
    }
   ],
   "source": [
    "%%bash\n",
    "pip install sphinx --upgrade"
   ]
  },
  {
   "cell_type": "markdown",
   "metadata": {
    "deletable": true,
    "editable": true
   },
   "source": [
    "Packaged with these materials is a sample repository that could use some documentation. If we look inside it, we can see that the repo has:\n",
    "\n",
    "* a python package called `docathon`\n",
    "* an examples folder called `examples`\n",
    "* configuration files for the repo"
   ]
  },
  {
   "cell_type": "code",
   "execution_count": 2,
   "metadata": {
    "collapsed": false,
    "deletable": true,
    "editable": true
   },
   "outputs": [
    {
     "name": "stdout",
     "output_type": "stream",
     "text": [
      "total 688\n",
      "-rw-r--r--@ 1 choldgraf  staff     0 Feb 23 15:25 Icon\r\n",
      "-rw-r--r--@ 1 choldgraf  staff  1071 Mar  5 10:23 LICENSE\n",
      "-rw-r--r--@ 1 choldgraf  staff    96 Mar  5 10:23 README.md\n",
      "drwxr-xr-x@ 5 choldgraf  staff   170 Mar  5 10:36 docathon\n",
      "drwxr-xr-x@ 3 choldgraf  staff   102 Mar  5 10:40 docs\n",
      "drwxr-xr-x@ 7 choldgraf  staff   238 Feb 23 15:25 examples\n",
      "drwxr-xr-x@ 4 choldgraf  staff   136 Mar  5 11:04 guide\n",
      "-rw-r--r--@ 1 choldgraf  staff     0 Oct 25 12:10 setup.py\n"
     ]
    }
   ],
   "source": [
    "%%bash\n",
    "ls -l .."
   ]
  },
  {
   "cell_type": "markdown",
   "metadata": {
    "deletable": true,
    "editable": true
   },
   "source": [
    "The `docathon` folder has the code for the project..."
   ]
  },
  {
   "cell_type": "code",
   "execution_count": 3,
   "metadata": {
    "collapsed": false,
    "deletable": true,
    "editable": true
   },
   "outputs": [
    {
     "name": "stdout",
     "output_type": "stream",
     "text": [
      "total 680\n",
      "-rw-r--r--@ 1 choldgraf  staff    0 Feb 23 15:26 Icon\r\n",
      "-rw-r--r--@ 1 choldgraf  staff    0 Oct 25 12:10 __init__.py\n",
      "-rw-r--r--@ 1 choldgraf  staff  352 Mar  5 10:38 viz.py\n"
     ]
    }
   ],
   "source": [
    "%%bash\n",
    "ls -l ../docathon/"
   ]
  },
  {
   "cell_type": "markdown",
   "metadata": {
    "deletable": true,
    "editable": true
   },
   "source": [
    "The examples folder is a collection of scripts that will generate some plots"
   ]
  },
  {
   "cell_type": "code",
   "execution_count": 4,
   "metadata": {
    "collapsed": false,
    "deletable": true,
    "editable": true
   },
   "outputs": [
    {
     "name": "stdout",
     "output_type": "stream",
     "text": [
      "total 696\n",
      "-rw-r--r--@ 1 choldgraf  staff    0 Feb 23 15:25 Icon\r\n",
      "-rw-r--r--@ 1 choldgraf  staff   77 Oct 25 12:58 README.txt\n",
      "-rw-r--r--@ 1 choldgraf  staff  277 Oct 25 12:59 plot_image.py\n",
      "-rw-r--r--@ 1 choldgraf  staff  240 Oct 25 12:59 plot_scatter.py\n"
     ]
    }
   ],
   "source": [
    "%%bash\n",
    "ls -l ../examples/"
   ]
  },
  {
   "cell_type": "markdown",
   "metadata": {
    "deletable": true,
    "editable": true
   },
   "source": [
    "This is a common structure for a package. We've got some code that gets something done, and a few examples that show off this code. Since we are hosting this repo on github, we are also deploying it to gh-pages in order to have our own little website."
   ]
  },
  {
   "cell_type": "markdown",
   "metadata": {
    "collapsed": true,
    "deletable": true,
    "editable": true
   },
   "source": [
    "## Sphinx-quickstart\n",
    "The easiest way to set up a sphinx repository is to use `sphinx-quickstart`. This will ask you a few questions about your project, and then quickly generate a shell structure for your documentation.\n",
    "\n",
    "You'll need to run this command from your shell (because it asks you questions interactively). Do the following things:\n",
    "\n",
    "* Change directories to the `docs` directory.\n",
    "* Run this command: `sphinx-quickstart`\n",
    "    * Use the default option for most questions, and give whatever you like for the name / version number / etc \n",
    "    * Make sure to answer `yes` when it asks you to install the following packages\n",
    "      * githubpages\n",
    "      * MathJax\n",
    "      \n",
    "---\n",
    "** Come back here after you've run the setup process **\n",
    "\n",
    "---\n",
    "\n",
    "Now let's take a look at what's inside the `docs` folder:"
   ]
  },
  {
   "cell_type": "code",
   "execution_count": 7,
   "metadata": {
    "collapsed": false,
    "deletable": true,
    "editable": true
   },
   "outputs": [
    {
     "name": "stdout",
     "output_type": "stream",
     "text": [
      "total 48\n",
      "-rw-r--r--@ 1 choldgraf  staff   605 Mar  5 11:09 Makefile\n",
      "-rw-r--r--@ 1 choldgraf  staff    21 Mar  5 10:40 README.txt\n",
      "drwxr-xr-x@ 2 choldgraf  staff    68 Mar  5 11:09 _build\n",
      "drwxr-xr-x@ 2 choldgraf  staff    68 Mar  5 11:09 _static\n",
      "drwxr-xr-x@ 2 choldgraf  staff    68 Mar  5 11:09 _templates\n",
      "-rw-r--r--@ 1 choldgraf  staff  4759 Mar  5 11:09 conf.py\n",
      "-rw-r--r--@ 1 choldgraf  staff   440 Mar  5 11:09 index.rst\n",
      "-rw-r--r--@ 1 choldgraf  staff   812 Mar  5 11:09 make.bat\n"
     ]
    }
   ],
   "source": [
    "%%bash\n",
    "ls -l ../docs"
   ]
  },
  {
   "cell_type": "markdown",
   "metadata": {
    "deletable": true,
    "editable": true
   },
   "source": [
    "We can see that sphinx created a bunch of new stuff for it to use. Here are some important points:\n",
    "\n",
    "## Important stuff for us\n",
    "* `Makefile` is useful if we want to do lots of things with one command, it's usually what you use to start the documentation generation process\n",
    "* `index.rst` is a reStructuredTest file that is your root documentation file. Usually it contains the table of contents, which tells sphinx which docs it should care about.\n",
    "* `_build` is where sphinx will dump the actual HTML that is generated.\n",
    "\n",
    "## Other stuff that we won't use here\n",
    "* `_static` and `_templates` contain other files relevant to your HTML, but we won't worry about them here.\n",
    "* `conf.py` contains some configuration options for sphinx. Many were generated when we answered questions using quickstart, and we won't change this file much.\n",
    "* `make.bat` is like `Makefile`, but for windows machines."
   ]
  },
  {
   "cell_type": "markdown",
   "metadata": {
    "deletable": true,
    "editable": true
   },
   "source": [
    "# Digging into `index.rst`\n",
    "\n",
    "`.rst` stands for reStructuredText. This is a language for structuring text such that it can be used to generate beautiful HTML output.\n",
    "\n",
    "* [Here's a good guide](http://www.sphinx-doc.org/en/stable/rest.html#rst-primer) on learning about the rST language\n",
    "* [Here's a cheatsheet](http://docutils.sourceforge.net/docs/user/rst/cheatsheet.txt) with some simple rst examples\n",
    "* [Here's an app](http://rst.ninjs.org/) to quickly demo what your rST will look like.\n",
    "\n",
    "Let's see what this looks like below. Note the peculiar way in which the text is structured. This is what allows sphinx to parse it properly."
   ]
  },
  {
   "cell_type": "code",
   "execution_count": 10,
   "metadata": {
    "collapsed": false,
    "deletable": true,
    "editable": true
   },
   "outputs": [
    {
     "name": "stdout",
     "output_type": "stream",
     "text": [
      ".. docathon documentation master file, created by\n",
      "   sphinx-quickstart on Sun Mar  5 11:09:51 2017.\n",
      "   You can adapt this file completely to your liking, but it should at least\n",
      "   contain the root `toctree` directive.\n",
      "\n",
      "Welcome to docathon's documentation!\n",
      "====================================\n",
      "\n",
      ".. toctree::\n",
      "   :maxdepth: 2\n",
      "   :caption: Contents:\n",
      "\n",
      "\n",
      "\n",
      "Indices and tables\n",
      "==================\n",
      "\n",
      "* :ref:`genindex`\n",
      "* :ref:`modindex`\n",
      "* :ref:`search`\n"
     ]
    }
   ],
   "source": [
    "%%bash\n",
    "cat ../docs/index.rst"
   ]
  },
  {
   "cell_type": "markdown",
   "metadata": {
    "deletable": true,
    "editable": true
   },
   "source": [
    "The most important part about `index.rst` is that it contains the *Table of Contents*. This is what sphinx uses to decide which pages to render. Right now it's mostly empty. We need to point it to something we've created!\n",
    "\n",
    "# Building the docs\n",
    "We still need to populate our documentation with actual content, but we can already build a (very small) website using sphinx. Let's give that a shot to see what happens (we'll create new content in a little bit).\n",
    "\n",
    "The `html` flag tells sphinx it's time to generate the pages for our website."
   ]
  },
  {
   "cell_type": "code",
   "execution_count": 14,
   "metadata": {
    "collapsed": false,
    "deletable": true,
    "editable": true
   },
   "outputs": [
    {
     "name": "stdout",
     "output_type": "stream",
     "text": [
      "Running Sphinx v1.5.3\n",
      "making output directory...\n",
      "loading pickled environment... not yet created\n",
      "building [mo]: targets for 0 po files that are out of date\n",
      "building [html]: targets for 1 source files that are out of date\n",
      "updating environment: 1 added, 0 changed, 0 removed\n",
      "reading sources... [100%] index\n",
      "\n",
      "looking for now-outdated files... none found\n",
      "pickling environment... done\n",
      "checking consistency... done\n",
      "preparing documents... done\n",
      "writing output... [100%] index\n",
      "\n",
      "generating indices... genindex\n",
      "writing additional pages... search\n",
      "copying static files... done\n",
      "copying extra files... done\n",
      "dumping search index in English (code: en) ... done\n",
      "dumping object inventory... done\n",
      "build succeeded.\n",
      "\n",
      "Build finished. The HTML pages are in _build/html.\n"
     ]
    }
   ],
   "source": [
    "%%bash\n",
    "make html -C ../docs/"
   ]
  },
  {
   "cell_type": "markdown",
   "metadata": {
    "deletable": true,
    "editable": true
   },
   "source": [
    "Let's see what we just generated here. If we look inside the `_build/html` directory..."
   ]
  },
  {
   "cell_type": "code",
   "execution_count": 15,
   "metadata": {
    "collapsed": false,
    "deletable": true,
    "editable": true
   },
   "outputs": [
    {
     "name": "stdout",
     "output_type": "stream",
     "text": [
      "total 40\n",
      "drwxr-xr-x@  3 choldgraf  staff   102 Mar  5 11:23 _sources\n",
      "drwxr-xr-x@ 24 choldgraf  staff   816 Mar  5 11:23 _static\n",
      "-rw-r--r--@  1 choldgraf  staff  2728 Mar  5 11:23 genindex.html\n",
      "-rw-r--r--@  1 choldgraf  staff  4028 Mar  5 11:23 index.html\n",
      "-rw-r--r--@  1 choldgraf  staff   241 Mar  5 11:23 objects.inv\n",
      "-rw-r--r--@  1 choldgraf  staff  3228 Mar  5 11:23 search.html\n",
      "-rw-r--r--@  1 choldgraf  staff   263 Mar  5 11:23 searchindex.js\n"
     ]
    }
   ],
   "source": [
    "%%bash\n",
    "ls -l ../docs/_build/html/"
   ]
  },
  {
   "cell_type": "markdown",
   "metadata": {
    "deletable": true,
    "editable": true
   },
   "source": [
    "We can see that all the components for a website are there. You can get a feel for this by simply navigating your file browser to this folder and double-clicking on `index.html`. Try that out now with the command below:"
   ]
  },
  {
   "cell_type": "code",
   "execution_count": 20,
   "metadata": {
    "collapsed": true,
    "deletable": true,
    "editable": true
   },
   "outputs": [],
   "source": [
    "%%bash\n",
    "open ../docs/_build/html/index.html"
   ]
  },
  {
   "cell_type": "markdown",
   "metadata": {
    "deletable": true,
    "editable": true
   },
   "source": [
    "Loos like a webpage! You should also notice the relationship between what's on this page, and what's in `index.rst`. We'll print it again below so it's easier to compare."
   ]
  },
  {
   "cell_type": "code",
   "execution_count": 18,
   "metadata": {
    "collapsed": false,
    "deletable": true,
    "editable": true
   },
   "outputs": [
    {
     "name": "stdout",
     "output_type": "stream",
     "text": [
      ".. docathon documentation master file, created by\n",
      "   sphinx-quickstart on Sun Mar  5 11:09:51 2017.\n",
      "   You can adapt this file completely to your liking, but it should at least\n",
      "   contain the root `toctree` directive.\n",
      "\n",
      "Welcome to docathon's documentation!\n",
      "====================================\n",
      "\n",
      ".. toctree::\n",
      "   :maxdepth: 2\n",
      "   :caption: Contents:\n",
      "\n",
      "\n",
      "\n",
      "Indices and tables\n",
      "==================\n",
      "\n",
      "* :ref:`genindex`\n",
      "* :ref:`modindex`\n",
      "* :ref:`search`\n"
     ]
    }
   ],
   "source": [
    "%%bash\n",
    "cat ../docs/index.rst"
   ]
  },
  {
   "cell_type": "markdown",
   "metadata": {
    "deletable": true,
    "editable": true
   },
   "source": [
    "Comparing the two, we can see how `rst` files define things like titles (with `=======`, `-------`, or some version of this). We also see how links are generated (with `:ref:`). These links point to `html` files that are in the same directory.\n",
    "\n",
    "# Adding a new file\n",
    "Now that our site structure is ready to go, let's add a page to our documentation. This should give you an idea for how to add new content to the site.\n",
    "\n",
    "We'll generate a single new page, called `awesomepage.rst`, and then add a reference to it in our `index.rst`."
   ]
  },
  {
   "cell_type": "code",
   "execution_count": 65,
   "metadata": {
    "collapsed": true,
    "deletable": true,
    "editable": true
   },
   "outputs": [],
   "source": [
    "%%bash\n",
    "# First we'll generate a folder for pages\n",
    "mkdir ../docs/pages"
   ]
  },
  {
   "cell_type": "code",
   "execution_count": 67,
   "metadata": {
    "collapsed": false,
    "deletable": true,
    "editable": true
   },
   "outputs": [],
   "source": [
    "# Now we'll create the page\n",
    "# We'll start with our page header:\n",
    "header = 'What a great page'\n",
    "header += '\\n' + '=' * len(header) + '\\n\\n'\n",
    "\n",
    "# Now we'll generate some random text\n",
    "text = 'This page, truly, is the greatest page on the internet.\\n\\n'\n",
    "\n",
    "# We can add texts with rst\n",
    "link = \"See, we've even got `David Bowie <https://www.youtube.com/watch?v=iYYRH4apXDo>`_.\\n\\n\"\n",
    "\n",
    "# And here's how to define images\n",
    "image = \"as well as pictures of cute cats\\n\\n\"\n",
    "image += \".. image::  https://lh6.ggpht.com/sw_iT7GZASdAYeiecsZEHJE-EgDhdK2rCWUzZOJS0OFiGpoi9qn8iMH2nuXHgWg2PA=h900\\n\"\n",
    "image += \"   :align:   center\\n\"\n",
    "image += \"   :target: https://en.wikipedia.org/wiki/Cat/\"\n",
    "\n",
    "# Now write the page\n",
    "with open('../docs/pages/awesomepage.rst', 'w') as ff:\n",
    "    ff.write(header + text + link + image)"
   ]
  },
  {
   "cell_type": "markdown",
   "metadata": {
    "deletable": true,
    "editable": true
   },
   "source": [
    "Let's re-build the site, and then take a look at what happens."
   ]
  },
  {
   "cell_type": "code",
   "execution_count": 68,
   "metadata": {
    "collapsed": false,
    "deletable": true,
    "editable": true
   },
   "outputs": [
    {
     "name": "stdout",
     "output_type": "stream",
     "text": [
      "Running Sphinx v1.5.3\n",
      "loading pickled environment... done\n",
      "building [mo]: targets for 0 po files that are out of date\n",
      "building [html]: targets for 0 source files that are out of date\n",
      "updating environment: 1 added, 0 changed, 1 removed\n",
      "reading sources... [100%] pages/awesomepage\n",
      "\n",
      "looking for now-outdated files... none found\n",
      "pickling environment... done\n",
      "checking consistency... done\n",
      "preparing documents... done\n",
      "writing output... [ 50%] index\n",
      "writing output... [100%] pages/awesomepage\n",
      "\n",
      "generating indices... genindex\n",
      "writing additional pages... search\n",
      "copying static files... done\n",
      "copying extra files... done\n",
      "dumping search index in English (code: en) ... done\n",
      "dumping object inventory... done\n",
      "build succeeded, 3 warnings.\n",
      "\n",
      "Build finished. The HTML pages are in _build/html.\n"
     ]
    },
    {
     "name": "stderr",
     "output_type": "stream",
     "text": [
      "/Users/choldgraf/Dropbox/github/publicRepos/zero_to_docs/docs/pages/awesomepage.rst:None: WARNING: nonlocal image URI found: https://lh6.ggpht.com/sw_iT7GZASdAYeiecsZEHJE-EgDhdK2rCWUzZOJS0OFiGpoi9qn8iMH2nuXHgWg2PA=h900\n",
      "/Users/choldgraf/Dropbox/github/publicRepos/zero_to_docs/docs/pages/awesomepage.rst:: WARNING: document isn't included in any toctree\n",
      "/Users/choldgraf/Dropbox/github/publicRepos/zero_to_docs/docs/index.rst:21: WARNING: undefined label: awesomepage.rst (if the link has no caption the label must precede a section header)\n"
     ]
    }
   ],
   "source": [
    "%%bash\n",
    "make html -C ../docs/"
   ]
  },
  {
   "cell_type": "code",
   "execution_count": 48,
   "metadata": {
    "collapsed": false,
    "deletable": true,
    "editable": true
   },
   "outputs": [
    {
     "name": "stdout",
     "output_type": "stream",
     "text": [
      "total 48\n",
      "drwxr-xr-x@  4 choldgraf  staff   136 Mar  5 11:50 _sources\n",
      "drwxr-xr-x@ 24 choldgraf  staff   816 Mar  5 11:23 _static\n",
      "-rw-r--r--@  1 choldgraf  staff  3713 Mar  5 12:02 awesomepage.html\n",
      "-rw-r--r--@  1 choldgraf  staff  2728 Mar  5 12:02 genindex.html\n",
      "-rw-r--r--@  1 choldgraf  staff  4028 Mar  5 12:02 index.html\n",
      "-rw-r--r--@  1 choldgraf  staff   263 Mar  5 12:02 objects.inv\n",
      "-rw-r--r--@  1 choldgraf  staff  3228 Mar  5 12:02 search.html\n",
      "-rw-r--r--@  1 choldgraf  staff   609 Mar  5 12:02 searchindex.js\n"
     ]
    }
   ],
   "source": [
    "%%bash\n",
    "ls -l ../docs/_build/html/"
   ]
  },
  {
   "cell_type": "markdown",
   "metadata": {
    "deletable": true,
    "editable": true
   },
   "source": [
    "As you can see, we've now got an `awesomepage.html` page generated."
   ]
  },
  {
   "cell_type": "code",
   "execution_count": 69,
   "metadata": {
    "collapsed": true,
    "deletable": true,
    "editable": true
   },
   "outputs": [],
   "source": [
    "%%bash\n",
    "open ../docs/_build/html/pages/awesomepage.html"
   ]
  },
  {
   "cell_type": "markdown",
   "metadata": {
    "deletable": true,
    "editable": true
   },
   "source": [
    "# Adding the page to the TOC\n",
    "You may have noticed that sphinx threw a warning when we built the website. This is because we didn't add the page to the table of contents. Sphinx will throw a warning in this case in order to make sure you don't forget about any pages.\n",
    "\n",
    "Let's add it to the TOC below. We need to be careful about adding the reference to our page at the right place. Sphinx needs these pages to be under the `toctree` section. We'll add it using some python below."
   ]
  },
  {
   "cell_type": "code",
   "execution_count": 124,
   "metadata": {
    "collapsed": false,
    "deletable": true,
    "editable": true
   },
   "outputs": [],
   "source": [
    "# Read in the lines of the file\n",
    "with open('../docs/index.rst', 'r') as ff:\n",
    "    lines = ff.readlines()\n",
    "\n",
    "# Find the line where we want to insert our new page\n",
    "insert_here = [ii for ii, line in enumerate(lines)\n",
    "               if ':caption: Contents' in line][0]\n",
    "\n",
    "# Now we'll the extra lines to link our new file\n",
    "string = '   pages/awesomepage'\n",
    "lines.insert(insert_here + 1, string)\n",
    "lines.insert(insert_here + 1, '\\n')\n",
    "\n",
    "# Now write the new file\n",
    "with open('../docs/index.rst', 'w') as ff:\n",
    "    ff.writelines(lines)"
   ]
  },
  {
   "cell_type": "code",
   "execution_count": 123,
   "metadata": {
    "collapsed": true,
    "deletable": true,
    "editable": true
   },
   "outputs": [],
   "source": [
    "%%bash\n",
    "# If you mess up, re-instate the original by uncommenting-out this line\n",
    "# cp ../docs/index.rst.COPY ../docs/index.rst"
   ]
  },
  {
   "cell_type": "markdown",
   "metadata": {
    "deletable": true,
    "editable": true
   },
   "source": [
    "Now, we'll re-generate the site and see what happens..."
   ]
  },
  {
   "cell_type": "code",
   "execution_count": 125,
   "metadata": {
    "collapsed": false,
    "deletable": true,
    "editable": true
   },
   "outputs": [
    {
     "name": "stdout",
     "output_type": "stream",
     "text": [
      "Running Sphinx v1.5.3\n",
      "loading pickled environment... done\n",
      "building [mo]: targets for 0 po files that are out of date\n",
      "building [html]: targets for 1 source files that are out of date\n",
      "updating environment: 0 added, 1 changed, 0 removed\n",
      "reading sources... [100%] index\n",
      "\n",
      "looking for now-outdated files... none found\n",
      "pickling environment... done\n",
      "checking consistency... done\n",
      "preparing documents... done\n",
      "writing output... [100%] index\n",
      "\n",
      "generating indices... genindex\n",
      "writing additional pages... search\n",
      "copying static files... done\n",
      "copying extra files... done\n",
      "dumping search index in English (code: en) ... done\n",
      "dumping object inventory... done\n",
      "build succeeded.\n",
      "\n",
      "Build finished. The HTML pages are in _build/html.\n"
     ]
    }
   ],
   "source": [
    "%%bash\n",
    "make html -C ../docs/"
   ]
  },
  {
   "cell_type": "markdown",
   "metadata": {
    "deletable": true,
    "editable": true
   },
   "source": [
    "Note that this time we didn't get the same error, since sphinx knows about our page. "
   ]
  },
  {
   "cell_type": "code",
   "execution_count": 126,
   "metadata": {
    "collapsed": true,
    "deletable": true,
    "editable": true
   },
   "outputs": [],
   "source": [
    "%%bash\n",
    "open ../docs/_build/html/index.html"
   ]
  },
  {
   "cell_type": "markdown",
   "metadata": {
    "deletable": true,
    "editable": true
   },
   "source": [
    "And now we have a website + one page!\n",
    "\n",
    "# Wrapping up\n",
    "This is just a start with Sphinx. There are many, many more things you can do with it. Check out the other guides to learn about how to integrate code and scripts with the website generation process."
   ]
  }
 ],
 "metadata": {
  "kernelspec": {
   "display_name": "Python 3",
   "language": "python",
   "name": "python3"
  },
  "language_info": {
   "codemirror_mode": {
    "name": "ipython",
    "version": 3
   },
   "file_extension": ".py",
   "mimetype": "text/x-python",
   "name": "python",
   "nbconvert_exporter": "python",
   "pygments_lexer": "ipython3",
   "version": "3.5.2"
  }
 },
 "nbformat": 4,
 "nbformat_minor": 2
}
